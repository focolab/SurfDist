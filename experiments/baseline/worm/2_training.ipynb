{
 "cells": [
  {
   "attachments": {},
   "cell_type": "markdown",
   "id": "b873f2ba",
   "metadata": {
    "tags": [
     "papermill-error-cell-tag"
    ]
   },
   "source": [
    "<span style=\"color:red; font-family:Helvetica Neue, Helvetica, Arial, sans-serif; font-size:2em;\">An Exception was encountered at '<a href=\"#papermill-error-cell\">In [19]</a>'.</span>"
   ]
  },
  {
   "attachments": {},
   "cell_type": "markdown",
   "id": "14b40619",
   "metadata": {
    "papermill": {
     "duration": 0.004136,
     "end_time": "2023-02-18T00:20:43.532113",
     "exception": false,
     "start_time": "2023-02-18T00:20:43.527977",
     "status": "completed"
    },
    "tags": []
   },
   "source": [
    "**In case of problems or questions, please first check the list of [Frequently Asked Questions (FAQ)](https://stardist.net/docs/faq.html).**\n",
    "\n",
    "Please shutdown all other training/prediction notebooks before running this notebook (as those might occupy the GPU memory otherwise)."
   ]
  },
  {
   "cell_type": "code",
   "execution_count": null,
   "id": "6644d2cd",
   "metadata": {
    "execution": {
     "iopub.execute_input": "2023-02-18T00:20:59.881770Z",
     "iopub.status.busy": "2023-02-18T00:20:59.881577Z",
     "iopub.status.idle": "2023-02-18T00:21:00.785235Z",
     "shell.execute_reply": "2023-02-18T00:21:00.784834Z"
    },
    "papermill": {
     "duration": 0.912389,
     "end_time": "2023-02-18T00:21:00.786308",
     "exception": false,
     "start_time": "2023-02-18T00:20:59.873919",
     "status": "completed"
    },
    "tags": ["parameters"]
   },
   "outputs": [],
   "source": [
    "sge_gpu=None\n",
    "# 96 is a good default choice (see 1_data.ipynb)\n",
    "n_rays = 12\n",
    "uuid = None\n"
   ]
  },
  {
   "cell_type": "code",
   "execution_count": null,
   "id": "047ed9d6",
   "metadata": {
    "execution": {
     "iopub.execute_input": "2023-02-18T00:20:43.542074Z",
     "iopub.status.busy": "2023-02-18T00:20:43.541870Z",
     "iopub.status.idle": "2023-02-18T00:20:47.532596Z",
     "shell.execute_reply": "2023-02-18T00:20:47.532231Z"
    },
    "papermill": {
     "duration": 3.996987,
     "end_time": "2023-02-18T00:20:47.533463",
     "exception": false,
     "start_time": "2023-02-18T00:20:43.536476",
     "status": "completed"
    },
    "tags": []
   },
   "outputs": [],
   "source": [
    "from __future__ import print_function, unicode_literals, absolute_import, division\n",
    "import os\n",
    "os.environ['CUDA_VISIBLE_DEVICES'] = str(sge_gpu)\n",
    "import sys\n",
    "import numpy as np\n",
    "import matplotlib\n",
    "matplotlib.rcParams[\"image.interpolation\"] = \"none\"\n",
    "import matplotlib.pyplot as plt\n",
    "%matplotlib inline\n",
    "%config InlineBackend.figure_format = 'retina'\n",
    "\n",
    "from glob import glob\n",
    "from tqdm import tqdm\n",
    "from tifffile import imread\n",
    "from csbdeep.utils import Path, normalize\n",
    "\n",
    "from stardist import fill_label_holes, random_label_cmap, calculate_extents, gputools_available\n",
    "from stardist import Rays_GoldenSpiral\n",
    "from stardist.matching import matching, matching_dataset\n",
    "from stardist.models import Config3D, StarDist3D, StarDistData3D\n",
    "\n",
    "np.random.seed(42)\n",
    "lbl_cmap = random_label_cmap()\n",
    "\n",
    "import tensorflow as tf\n",
    "physical_devices = tf.config.list_physical_devices('GPU')\n",
    "# tf.config.experimental.set_memory_growth(physical_devices[0], True)"
   ]
  },
  {
   "attachments": {},
   "cell_type": "markdown",
   "id": "9ff3d8cb",
   "metadata": {
    "papermill": {
     "duration": 0.00408,
     "end_time": "2023-02-18T00:20:47.541154",
     "exception": false,
     "start_time": "2023-02-18T00:20:47.537074",
     "status": "completed"
    },
    "tags": []
   },
   "source": [
    "# Data\n",
    "\n",
    "We assume that data has already been downloaded via notebook [1_data.ipynb](1_data.ipynb).  \n",
    "\n",
    "<div class=\"alert alert-block alert-info\">\n",
    "Training data (for input `X` with associated label masks `Y`) can be provided via lists of numpy arrays, where each image can have a different size. Alternatively, a single numpy array can also be used if all images have the same size.  \n",
    "Input images can either be three-dimensional (single-channel) or four-dimensional (multi-channel) arrays, where the channel axis comes last. Label images need to be integer-valued.\n",
    "</div>"
   ]
  },
  {
   "cell_type": "code",
   "execution_count": null,
   "id": "6766510b",
   "metadata": {
    "execution": {
     "iopub.execute_input": "2023-02-18T00:20:47.549947Z",
     "iopub.status.busy": "2023-02-18T00:20:47.549238Z",
     "iopub.status.idle": "2023-02-18T00:20:47.555445Z",
     "shell.execute_reply": "2023-02-18T00:20:47.555067Z"
    },
    "papermill": {
     "duration": 0.01189,
     "end_time": "2023-02-18T00:20:47.556638",
     "exception": false,
     "start_time": "2023-02-18T00:20:47.544748",
     "status": "completed"
    },
    "tags": []
   },
   "outputs": [],
   "source": [
    "X_trn = sorted(glob('/wynton/home/kato/borc/downloads/c_elegans_nuclei/train/images/*.tif'))\n",
    "Y_trn = sorted(glob('/wynton/home/kato/borc/downloads/c_elegans_nuclei/train/masks/*.tif'))\n",
    "X_val = sorted(glob('/wynton/home/kato/borc/downloads/c_elegans_nuclei/val/images/*.tif'))\n",
    "Y_val = sorted(glob('/wynton/home/kato/borc/downloads/c_elegans_nuclei/val/masks/*.tif'))\n",
    "X_test = sorted(glob('/wynton/home/kato/borc/downloads/c_elegans_nuclei/test/images/*.tif'))\n",
    "Y_test = sorted(glob('/wynton/home/kato/borc/downloads/c_elegans_nuclei/test/masks/*.tif'))\n",
    "\n",
    "assert all(Path(x).name==Path(y).name for x,y in zip(X_trn,Y_trn))\n",
    "assert all(Path(x).name==Path(y).name for x,y in zip(X_val,Y_val))\n",
    "#assert all(Path(x).name==Path(y).name for x,y in zip(X_test,Y_test))"
   ]
  },
  {
   "cell_type": "code",
   "execution_count": null,
   "id": "a84bf9a9",
   "metadata": {
    "execution": {
     "iopub.execute_input": "2023-02-18T00:20:47.565265Z",
     "iopub.status.busy": "2023-02-18T00:20:47.564715Z",
     "iopub.status.idle": "2023-02-18T00:20:49.357889Z",
     "shell.execute_reply": "2023-02-18T00:20:49.357400Z"
    },
    "papermill": {
     "duration": 1.798465,
     "end_time": "2023-02-18T00:20:49.359086",
     "exception": false,
     "start_time": "2023-02-18T00:20:47.560621",
     "status": "completed"
    },
    "tags": []
   },
   "outputs": [],
   "source": [
    "X_trn = list(map(imread,X_trn))\n",
    "Y_trn = list(map(imread,Y_trn))\n",
    "X_val = list(map(imread,X_val))\n",
    "Y_val = list(map(imread,Y_val))\n",
    "X_test = list(map(imread,X_test))\n",
    "Y_test = list(map(imread,Y_test))\n",
    "n_channel = 1 if X_trn[0].ndim == 3 else X_trn[0].shape[-1]"
   ]
  },
  {
   "attachments": {},
   "cell_type": "markdown",
   "id": "06b5b6f0",
   "metadata": {
    "papermill": {
     "duration": 0.003785,
     "end_time": "2023-02-18T00:20:49.367059",
     "exception": false,
     "start_time": "2023-02-18T00:20:49.363274",
     "status": "completed"
    },
    "tags": []
   },
   "source": [
    "Normalize images and fill small label holes."
   ]
  },
  {
   "cell_type": "code",
   "execution_count": null,
   "id": "07ef5798",
   "metadata": {
    "execution": {
     "iopub.execute_input": "2023-02-18T00:20:49.376109Z",
     "iopub.status.busy": "2023-02-18T00:20:49.375850Z",
     "iopub.status.idle": "2023-02-18T00:20:59.411693Z",
     "shell.execute_reply": "2023-02-18T00:20:59.411304Z"
    },
    "papermill": {
     "duration": 10.041924,
     "end_time": "2023-02-18T00:20:59.412599",
     "exception": false,
     "start_time": "2023-02-18T00:20:49.370675",
     "status": "completed"
    },
    "tags": []
   },
   "outputs": [],
   "source": [
    "axis_norm = (0,1,2)   # normalize channels independently\n",
    "# axis_norm = (0,1,2,3) # normalize channels jointly\n",
    "if n_channel > 1:\n",
    "    print(\"Normalizing image channels %s.\" % ('jointly' if axis_norm is None or 3 in axis_norm else 'independently'))\n",
    "    sys.stdout.flush()\n",
    "\n",
    "X_trn = [normalize(x,1,99.8,axis=axis_norm) for x in tqdm(X_trn)]\n",
    "Y_trn = [fill_label_holes(y) for y in tqdm(Y_trn)]\n",
    "X_val = [normalize(x,1,99.8,axis=axis_norm) for x in tqdm(X_val)]\n",
    "Y_val = [fill_label_holes(y) for y in tqdm(Y_val)]\n",
    "X_test = [normalize(x,1,99.8,axis=axis_norm) for x in tqdm(X_test)]\n",
    "Y_test = [fill_label_holes(y) for y in tqdm(Y_test)]"
   ]
  },
  {
   "attachments": {},
   "cell_type": "markdown",
   "id": "062c8cb9",
   "metadata": {
    "papermill": {
     "duration": 0.046822,
     "end_time": "2023-02-18T00:20:59.465245",
     "exception": false,
     "start_time": "2023-02-18T00:20:59.418423",
     "status": "completed"
    },
    "tags": []
   },
   "source": [
    "Split into train and validation datasets."
   ]
  },
  {
   "cell_type": "code",
   "execution_count": null,
   "id": "63be91c1",
   "metadata": {
    "execution": {
     "iopub.execute_input": "2023-02-18T00:20:59.477712Z",
     "iopub.status.busy": "2023-02-18T00:20:59.477390Z",
     "iopub.status.idle": "2023-02-18T00:20:59.480320Z",
     "shell.execute_reply": "2023-02-18T00:20:59.479969Z"
    },
    "papermill": {
     "duration": 0.010509,
     "end_time": "2023-02-18T00:20:59.481111",
     "exception": false,
     "start_time": "2023-02-18T00:20:59.470602",
     "status": "completed"
    },
    "tags": []
   },
   "outputs": [],
   "source": [
    "assert len(X_trn) > 1, \"not enough training data\"\n",
    "# rng = np.random.RandomState(42)\n",
    "# ind = rng.permutation(len(X))\n",
    "# n_val = max(1, int(round(0.15 * len(ind))))\n",
    "# ind_train, ind_val = ind[:-n_val], ind[-n_val:]\n",
    "# X_val, Y_val = [X[i] for i in ind_val]  , [Y[i] for i in ind_val]\n",
    "# X_trn, Y_trn = [X[i] for i in ind_train], [Y[i] for i in ind_train] \n",
    "print('number of images: %3d' % (len(X_trn)+len(X_val)+len(X_test)))\n",
    "print('- training:       %3d' % len(X_trn))\n",
    "print('- validation:     %3d' % len(X_val))\n",
    "print('- test:     %3d' % len(X_test))"
   ]
  },
  {
   "attachments": {},
   "cell_type": "markdown",
   "id": "bbceb430",
   "metadata": {
    "papermill": {
     "duration": 0.006233,
     "end_time": "2023-02-18T00:20:59.493940",
     "exception": false,
     "start_time": "2023-02-18T00:20:59.487707",
     "status": "completed"
    },
    "tags": []
   },
   "source": [
    "Training data consists of pairs of input image and label instances."
   ]
  },
  {
   "cell_type": "code",
   "execution_count": null,
   "id": "3d8cbfed",
   "metadata": {
    "execution": {
     "iopub.execute_input": "2023-02-18T00:20:59.506083Z",
     "iopub.status.busy": "2023-02-18T00:20:59.505776Z",
     "iopub.status.idle": "2023-02-18T00:20:59.509755Z",
     "shell.execute_reply": "2023-02-18T00:20:59.509371Z"
    },
    "papermill": {
     "duration": 0.010842,
     "end_time": "2023-02-18T00:20:59.510570",
     "exception": false,
     "start_time": "2023-02-18T00:20:59.499728",
     "status": "completed"
    },
    "tags": []
   },
   "outputs": [],
   "source": [
    "def plot_img_label(img, lbl, img_title=\"image (XY slice)\", lbl_title=\"label (XY slice)\", z=None, **kwargs):\n",
    "    if z is None:\n",
    "        z = img.shape[0] // 2    \n",
    "    fig, (ai,al) = plt.subplots(1,2, figsize=(12,5), gridspec_kw=dict(width_ratios=(1.25,1)))\n",
    "    im = ai.imshow(img[z], cmap='gray', clim=(0,1))\n",
    "    ai.set_title(img_title)    \n",
    "    fig.colorbar(im, ax=ai)\n",
    "    al.imshow(lbl[z], cmap=lbl_cmap)\n",
    "    al.set_title(lbl_title)\n",
    "    plt.tight_layout()"
   ]
  },
  {
   "cell_type": "code",
   "execution_count": null,
   "id": "dfbf707a",
   "metadata": {
    "execution": {
     "iopub.execute_input": "2023-02-18T00:20:59.524359Z",
     "iopub.status.busy": "2023-02-18T00:20:59.524161Z",
     "iopub.status.idle": "2023-02-18T00:20:59.833292Z",
     "shell.execute_reply": "2023-02-18T00:20:59.832909Z"
    },
    "papermill": {
     "duration": 0.317799,
     "end_time": "2023-02-18T00:20:59.834219",
     "exception": false,
     "start_time": "2023-02-18T00:20:59.516420",
     "status": "completed"
    },
    "tags": []
   },
   "outputs": [],
   "source": [
    "i = 0\n",
    "img, lbl = X_trn[i], Y_trn[i]\n",
    "assert img.ndim in (3,4)\n",
    "img = img if img.ndim==3 else img[...,:3]\n",
    "plot_img_label(img,lbl)\n",
    "None;"
   ]
  },
  {
   "attachments": {},
   "cell_type": "markdown",
   "id": "63ce0838",
   "metadata": {
    "papermill": {
     "duration": 0.006486,
     "end_time": "2023-02-18T00:20:59.848478",
     "exception": false,
     "start_time": "2023-02-18T00:20:59.841992",
     "status": "completed"
    },
    "tags": []
   },
   "source": [
    "# Configuration\n",
    "\n",
    "A `StarDist3D` model is specified via a `Config3D` object."
   ]
  },
  {
   "cell_type": "code",
   "execution_count": null,
   "id": "5c4c5117",
   "metadata": {
    "execution": {
     "iopub.execute_input": "2023-02-18T00:20:59.864191Z",
     "iopub.status.busy": "2023-02-18T00:20:59.863992Z",
     "iopub.status.idle": "2023-02-18T00:20:59.866441Z",
     "shell.execute_reply": "2023-02-18T00:20:59.866101Z"
    },
    "papermill": {
     "duration": 0.011067,
     "end_time": "2023-02-18T00:20:59.867222",
     "exception": false,
     "start_time": "2023-02-18T00:20:59.856155",
     "status": "completed"
    },
    "tags": []
   },
   "outputs": [],
   "source": [
    "print(Config3D.__doc__)"
   ]
  },
  {
   "cell_type": "code",
   "execution_count": null,
   "id": "e901a723",
   "metadata": {
    "execution": {
     "iopub.execute_input": "2023-02-18T00:20:59.881770Z",
     "iopub.status.busy": "2023-02-18T00:20:59.881577Z",
     "iopub.status.idle": "2023-02-18T00:21:00.785235Z",
     "shell.execute_reply": "2023-02-18T00:21:00.784834Z"
    },
    "papermill": {
     "duration": 0.912389,
     "end_time": "2023-02-18T00:21:00.786308",
     "exception": false,
     "start_time": "2023-02-18T00:20:59.873919",
     "status": "completed"
    },
    "tags": []
   },
   "outputs": [],
   "source": [
    "extents = calculate_extents(Y_trn)\n",
    "anisotropy = tuple(np.max(extents) / extents)\n",
    "print('empirical anisotropy of labeled objects = %s' % str(anisotropy))"
   ]
  },
  {
   "cell_type": "code",
   "execution_count": null,
   "id": "c8f4e9f5",
   "metadata": {
    "execution": {
     "iopub.execute_input": "2023-02-18T00:21:00.802412Z",
     "iopub.status.busy": "2023-02-18T00:21:00.802196Z",
     "iopub.status.idle": "2023-02-18T00:21:00.809961Z",
     "shell.execute_reply": "2023-02-18T00:21:00.809658Z"
    },
    "papermill": {
     "duration": 0.016873,
     "end_time": "2023-02-18T00:21:00.810765",
     "exception": false,
     "start_time": "2023-02-18T00:21:00.793892",
     "status": "completed"
    },
    "tags": []
   },
   "outputs": [],
   "source": [
    "# Use OpenCL-based computations for data generator during training (requires 'gputools')\n",
    "use_gpu = False and gputools_available()\n",
    "\n",
    "# Predict on subsampled grid for increased efficiency and larger field of view\n",
    "grid = tuple(1 if a > 1.5 else 2 for a in anisotropy)\n",
    "\n",
    "# Use rays on a Fibonacci lattice adjusted for measured anisotropy of the training data\n",
    "rays = Rays_GoldenSpiral(n_rays, anisotropy=anisotropy)\n",
    "\n",
    "conf = Config3D (\n",
    "    rays             = rays,\n",
    "    grid             = grid,\n",
    "    anisotropy       = anisotropy,\n",
    "    use_gpu          = use_gpu,\n",
    "    n_channel_in     = n_channel,\n",
    "    # adjust for your data below (make patch size as large as possible)\n",
    "    train_patch_size = (96,64,64),\n",
    "    train_batch_size = 4,\n",
    ")\n",
    "print(conf)\n",
    "vars(conf)"
   ]
  },
  {
   "cell_type": "code",
   "execution_count": null,
   "id": "bdef0d46",
   "metadata": {
    "execution": {
     "iopub.execute_input": "2023-02-18T00:21:00.827288Z",
     "iopub.status.busy": "2023-02-18T00:21:00.827066Z",
     "iopub.status.idle": "2023-02-18T00:21:00.829297Z",
     "shell.execute_reply": "2023-02-18T00:21:00.828994Z"
    },
    "papermill": {
     "duration": 0.01219,
     "end_time": "2023-02-18T00:21:00.830112",
     "exception": false,
     "start_time": "2023-02-18T00:21:00.817922",
     "status": "completed"
    },
    "tags": []
   },
   "outputs": [],
   "source": [
    "if use_gpu:\n",
    "    from csbdeep.utils.tf import limit_gpu_memory\n",
    "    # adjust as necessary: limit GPU memory to be used by TensorFlow to leave some to OpenCL-based computations\n",
    "    limit_gpu_memory(0.8)\n",
    "    # alternatively, try this:\n",
    "    # limit_gpu_memory(None, allow_growth=True)"
   ]
  },
  {
   "attachments": {},
   "cell_type": "markdown",
   "id": "92fb6bf7",
   "metadata": {
    "papermill": {
     "duration": 0.008496,
     "end_time": "2023-02-18T00:21:00.845886",
     "exception": false,
     "start_time": "2023-02-18T00:21:00.837390",
     "status": "completed"
    },
    "tags": []
   },
   "source": [
    "**Note:** The trained `StarDist3D` model will *not* predict completed shapes for partially visible objects at the image boundary."
   ]
  },
  {
   "cell_type": "code",
   "execution_count": null,
   "id": "cdbf8d37",
   "metadata": {
    "execution": {
     "iopub.execute_input": "2023-02-18T00:21:00.862589Z",
     "iopub.status.busy": "2023-02-18T00:21:00.862361Z",
     "iopub.status.idle": "2023-02-18T00:21:01.966813Z",
     "shell.execute_reply": "2023-02-18T00:21:01.965996Z"
    },
    "papermill": {
     "duration": 1.115066,
     "end_time": "2023-02-18T00:21:01.968129",
     "exception": false,
     "start_time": "2023-02-18T00:21:00.853063",
     "status": "completed"
    },
    "tags": []
   },
   "outputs": [],
   "source": [
    "model_name = '3d_worm_{}_rays_{}'.format(n_rays, uuid)\n",
    "model = StarDist3D(conf, name=model_name, basedir='models')"
   ]
  },
  {
   "attachments": {},
   "cell_type": "markdown",
   "id": "093923c5",
   "metadata": {
    "papermill": {
     "duration": 0.007267,
     "end_time": "2023-02-18T00:21:01.983374",
     "exception": false,
     "start_time": "2023-02-18T00:21:01.976107",
     "status": "completed"
    },
    "tags": []
   },
   "source": [
    "Check if the neural network has a large enough field of view to see up to the boundary of most objects."
   ]
  },
  {
   "cell_type": "code",
   "execution_count": null,
   "id": "3c9aab6b",
   "metadata": {
    "execution": {
     "iopub.execute_input": "2023-02-18T00:21:01.999194Z",
     "iopub.status.busy": "2023-02-18T00:21:01.998971Z",
     "iopub.status.idle": "2023-02-18T00:21:07.079053Z",
     "shell.execute_reply": "2023-02-18T00:21:07.078508Z"
    },
    "papermill": {
     "duration": 5.089099,
     "end_time": "2023-02-18T00:21:07.080030",
     "exception": false,
     "start_time": "2023-02-18T00:21:01.990931",
     "status": "completed"
    },
    "tags": []
   },
   "outputs": [],
   "source": [
    "median_size = calculate_extents(Y_trn, np.median)\n",
    "fov = np.array(model._axes_tile_overlap('ZYX'))\n",
    "print(f\"median object size:      {median_size}\")\n",
    "print(f\"network field of view :  {fov}\")\n",
    "if any(median_size > fov):\n",
    "    print(\"WARNING: median object size larger than field of view of the neural network.\")"
   ]
  },
  {
   "attachments": {},
   "cell_type": "markdown",
   "id": "c8e6e447",
   "metadata": {
    "papermill": {
     "duration": 0.007038,
     "end_time": "2023-02-18T00:21:07.094429",
     "exception": false,
     "start_time": "2023-02-18T00:21:07.087391",
     "status": "completed"
    },
    "tags": []
   },
   "source": [
    "# Data Augmentation"
   ]
  },
  {
   "attachments": {},
   "cell_type": "markdown",
   "id": "5a3bc441",
   "metadata": {
    "papermill": {
     "duration": 0.007034,
     "end_time": "2023-02-18T00:21:07.108173",
     "exception": false,
     "start_time": "2023-02-18T00:21:07.101139",
     "status": "completed"
    },
    "tags": []
   },
   "source": [
    "You can define a function/callable that applies augmentation to each batch of the data generator.  \n",
    "We here use an `augmenter` that applies random rotations, flips, and intensity changes, which are typically sensible for (3D) microscopy images (but you can disable augmentation by setting `augmenter = None`)."
   ]
  },
  {
   "cell_type": "code",
   "execution_count": null,
   "id": "7cec30c2",
   "metadata": {
    "execution": {
     "iopub.execute_input": "2023-02-18T00:21:07.123757Z",
     "iopub.status.busy": "2023-02-18T00:21:07.123479Z",
     "iopub.status.idle": "2023-02-18T00:21:07.127611Z",
     "shell.execute_reply": "2023-02-18T00:21:07.127218Z"
    },
    "papermill": {
     "duration": 0.013007,
     "end_time": "2023-02-18T00:21:07.128496",
     "exception": false,
     "start_time": "2023-02-18T00:21:07.115489",
     "status": "completed"
    },
    "tags": []
   },
   "outputs": [],
   "source": [
    "def random_fliprot(img, mask, axis=None): \n",
    "    if axis is None:\n",
    "        axis = tuple(range(mask.ndim))\n",
    "    axis = tuple(axis)\n",
    "            \n",
    "    assert img.ndim>=mask.ndim\n",
    "    perm = tuple(np.random.permutation(axis))\n",
    "    transpose_axis = np.arange(mask.ndim)\n",
    "    for a, p in zip(axis, perm):\n",
    "        transpose_axis[a] = p\n",
    "    transpose_axis = tuple(transpose_axis)\n",
    "    img = img.transpose(transpose_axis + tuple(range(mask.ndim, img.ndim))) \n",
    "    mask = mask.transpose(transpose_axis) \n",
    "    for ax in axis: \n",
    "        if np.random.rand() > 0.5:\n",
    "            img = np.flip(img, axis=ax)\n",
    "            mask = np.flip(mask, axis=ax)\n",
    "    return img, mask \n",
    "\n",
    "def random_intensity_change(img):\n",
    "    img = img*np.random.uniform(0.6,2) + np.random.uniform(-0.2,0.2)\n",
    "    return img\n",
    "\n",
    "def augmenter(x, y):\n",
    "    \"\"\"Augmentation of a single input/label image pair.\n",
    "    x is an input image\n",
    "    y is the corresponding ground-truth label image\n",
    "    \"\"\"\n",
    "    # Note that we only use fliprots along axis=(1,2), i.e. the yx axis \n",
    "    # as 3D microscopy acquisitions are usually not axially symmetric\n",
    "    x, y = random_fliprot(x, y, axis=(1,2))\n",
    "    x = random_intensity_change(x)\n",
    "    return x, y\n"
   ]
  },
  {
   "cell_type": "code",
   "execution_count": null,
   "id": "14cc45b1",
   "metadata": {
    "execution": {
     "iopub.execute_input": "2023-02-18T00:21:07.143300Z",
     "iopub.status.busy": "2023-02-18T00:21:07.143141Z",
     "iopub.status.idle": "2023-02-18T00:21:08.322313Z",
     "shell.execute_reply": "2023-02-18T00:21:08.321783Z"
    },
    "papermill": {
     "duration": 1.187943,
     "end_time": "2023-02-18T00:21:08.323515",
     "exception": false,
     "start_time": "2023-02-18T00:21:07.135572",
     "status": "completed"
    },
    "tags": []
   },
   "outputs": [],
   "source": [
    "# plot some augmented examples\n",
    "img, lbl = X_trn[0],Y_trn[0]\n",
    "plot_img_label(img, lbl)\n",
    "for _ in range(3):\n",
    "    img_aug, lbl_aug = augmenter(img,lbl)\n",
    "    plot_img_label(img_aug, lbl_aug, img_title=\"image augmented (XY slice)\", lbl_title=\"label augmented (XY slice)\")"
   ]
  },
  {
   "attachments": {},
   "cell_type": "markdown",
   "id": "05137e0b",
   "metadata": {
    "papermill": {
     "duration": 0.010467,
     "end_time": "2023-02-18T00:21:08.344861",
     "exception": false,
     "start_time": "2023-02-18T00:21:08.334394",
     "status": "completed"
    },
    "tags": []
   },
   "source": [
    "# Training"
   ]
  },
  {
   "attachments": {},
   "cell_type": "markdown",
   "id": "92cab7bb",
   "metadata": {
    "papermill": {
     "duration": 0.010458,
     "end_time": "2023-02-18T00:21:08.366240",
     "exception": false,
     "start_time": "2023-02-18T00:21:08.355782",
     "status": "completed"
    },
    "tags": []
   },
   "source": [
    "We recommend to monitor the progress during training with [TensorBoard](https://www.tensorflow.org/programmers_guide/summaries_and_tensorboard). You can start it in the shell from the current working directory like this:\n",
    "\n",
    "    $ tensorboard --logdir=.\n",
    "\n",
    "Then connect to [http://localhost:6006/](http://localhost:6006/) with your browser.\n"
   ]
  },
  {
   "cell_type": "code",
   "execution_count": null,
   "id": "4c093d55",
   "metadata": {
    "execution": {
     "iopub.execute_input": "2023-02-18T00:21:08.388657Z",
     "iopub.status.busy": "2023-02-18T00:21:08.388452Z",
     "iopub.status.idle": "2023-02-18T01:15:14.691456Z",
     "shell.execute_reply": "2023-02-18T01:15:14.691025Z"
    },
    "papermill": {
     "duration": 3246.315647,
     "end_time": "2023-02-18T01:15:14.692343",
     "exception": false,
     "start_time": "2023-02-18T00:21:08.376696",
     "status": "completed"
    },
    "tags": []
   },
   "outputs": [],
   "source": [
    "quick_demo = False\n",
    "epochs = 2000\n",
    "steps_per_epoch = 10\n",
    "already_trained = False\n",
    "continue_training = False\n",
    "\n",
    "if already_trained:\n",
    "    print (\n",
    "        \"NOTE: Loading pre-trained model!\\n\"\n",
    "        \"      Please set the variable 'already_trained = False' for proper (long) training.\",\n",
    "        file=sys.stderr, flush=True\n",
    "    )\n",
    "    model.train(X_trn, Y_trn, validation_data=(X_val,Y_val), augmenter=augmenter,\n",
    "                epochs=2, steps_per_epoch=5)\n",
    "\n",
    "    print(\"====> Stopping training and loading previously trained demo model from disk.\", file=sys.stderr, flush=True)\n",
    "    model = StarDist3D.from_pretrained(model_name)\n",
    "else:\n",
    "    if continue_training:\n",
    "        model = StarDist3D(None, name=model_name, basedir='/wynton/home/kato/borc/stardist/scripts/models')\n",
    "    history = model.train(X_trn, Y_trn, validation_data=(X_val,Y_val), augmenter=augmenter, epochs=epochs, steps_per_epoch=steps_per_epoch)\n",
    "    np.save('/wynton/home/kato/borc/stardist/experiments/baseline/worm/training_history_{}.npy'.format(model_name), history.history)\n",
    "None;"
   ]
  },
  {
   "attachments": {},
   "cell_type": "markdown",
   "id": "2b9299b5",
   "metadata": {
    "papermill": {
     "duration": 1.132379,
     "end_time": "2023-02-18T01:15:16.972677",
     "exception": false,
     "start_time": "2023-02-18T01:15:15.840298",
     "status": "completed"
    },
    "tags": []
   },
   "source": [
    "# Threshold optimization"
   ]
  },
  {
   "attachments": {},
   "cell_type": "markdown",
   "id": "ac41906c",
   "metadata": {
    "papermill": {
     "duration": 1.175391,
     "end_time": "2023-02-18T01:15:19.281208",
     "exception": false,
     "start_time": "2023-02-18T01:15:18.105817",
     "status": "completed"
    },
    "tags": []
   },
   "source": [
    "While the default values for the probability and non-maximum suppression thresholds already yield good results in many cases, we still recommend to adapt the thresholds to your data. The optimized threshold values are saved to disk and will be automatically loaded with the model."
   ]
  },
  {
   "cell_type": "code",
   "execution_count": null,
   "id": "5fc6e2d4",
   "metadata": {
    "execution": {
     "iopub.execute_input": "2023-02-18T01:15:21.548097Z",
     "iopub.status.busy": "2023-02-18T01:15:21.547583Z",
     "iopub.status.idle": "2023-02-18T01:15:21.549947Z",
     "shell.execute_reply": "2023-02-18T01:15:21.549675Z"
    },
    "papermill": {
     "duration": 1.139656,
     "end_time": "2023-02-18T01:15:21.550802",
     "exception": false,
     "start_time": "2023-02-18T01:15:20.411146",
     "status": "completed"
    },
    "tags": []
   },
   "outputs": [],
   "source": [
    "if quick_demo:\n",
    "    # only use a single validation image for demo\n",
    "    model.optimize_thresholds(X_val[:1], Y_val[:1])\n",
    "else:\n",
    "    model.optimize_thresholds(X_val, Y_val)\n",
    "    # pass"
   ]
  },
  {
   "attachments": {},
   "cell_type": "markdown",
   "id": "ba7bc643",
   "metadata": {
    "papermill": {
     "duration": 1.139265,
     "end_time": "2023-02-18T01:15:23.820797",
     "exception": false,
     "start_time": "2023-02-18T01:15:22.681532",
     "status": "completed"
    },
    "tags": []
   },
   "source": [
    "# Evaluation and Detection Performance"
   ]
  },
  {
   "attachments": {},
   "cell_type": "markdown",
   "id": "8be885c8",
   "metadata": {
    "papermill": {
     "duration": 1.127944,
     "end_time": "2023-02-18T01:15:26.115495",
     "exception": false,
     "start_time": "2023-02-18T01:15:24.987551",
     "status": "completed"
    },
    "tags": []
   },
   "source": [
    "Besides the losses and metrics during training, we can also quantitatively evaluate the actual detection/segmentation performance on the validation data by considering objects in the ground truth to be correctly matched if there are predicted objects with overlap (here [intersection over union (IoU)](https://en.wikipedia.org/wiki/Jaccard_index)) beyond a chosen IoU threshold $\\tau$.\n",
    "\n",
    "The corresponding matching statistics (average overlap, accuracy, recall, precision, etc.) are typically of greater practical relevance than the losses/metrics computed during training (but harder to formulate as a loss function). \n",
    "The value of $\\tau$ can be between 0 (even slightly overlapping objects count as correctly predicted) and 1 (only pixel-perfectly overlapping objects count) and which $\\tau$ to use depends on the needed segmentation precision/application.\n",
    "\n",
    "Please see `help(matching)` for definitions of the abbreviations used in the evaluation below and see the Wikipedia page on [Sensitivity and specificity](https://en.wikipedia.org/wiki/Sensitivity_and_specificity) for further details."
   ]
  },
  {
   "cell_type": "code",
   "execution_count": null,
   "id": "5ac5f99b",
   "metadata": {
    "execution": {
     "iopub.execute_input": "2023-02-18T01:15:28.380643Z",
     "iopub.status.busy": "2023-02-18T01:15:28.380483Z",
     "iopub.status.idle": "2023-02-18T01:15:28.382696Z",
     "shell.execute_reply": "2023-02-18T01:15:28.382398Z"
    },
    "papermill": {
     "duration": 1.135505,
     "end_time": "2023-02-18T01:15:28.383482",
     "exception": false,
     "start_time": "2023-02-18T01:15:27.247977",
     "status": "completed"
    },
    "tags": []
   },
   "outputs": [],
   "source": [
    "# help(matching)"
   ]
  },
  {
   "attachments": {},
   "cell_type": "markdown",
   "id": "3cad94c2",
   "metadata": {
    "papermill": {
     "duration": 1.156975,
     "end_time": "2023-02-18T01:15:30.671838",
     "exception": false,
     "start_time": "2023-02-18T01:15:29.514863",
     "status": "completed"
    },
    "tags": []
   },
   "source": [
    "First predict the labels for all validation images:"
   ]
  },
  {
   "attachments": {},
   "cell_type": "markdown",
   "id": "8d077c58",
   "metadata": {
    "tags": [
     "papermill-error-cell-tag"
    ]
   },
   "source": [
    "<span id=\"papermill-error-cell\" style=\"color:red; font-family:Helvetica Neue, Helvetica, Arial, sans-serif; font-size:2em;\">Execution using papermill encountered an exception here and stopped:</span>"
   ]
  },
  {
   "cell_type": "code",
   "execution_count": null,
   "id": "e97b9413",
   "metadata": {
    "execution": {
     "iopub.execute_input": "2023-02-18T01:15:32.933600Z",
     "iopub.status.busy": "2023-02-18T01:15:32.933434Z",
     "iopub.status.idle": "2023-02-18T01:15:44.997297Z",
     "shell.execute_reply": "2023-02-18T01:15:44.996826Z"
    },
    "papermill": {
     "duration": 13.200447,
     "end_time": "2023-02-18T01:15:44.997929",
     "exception": true,
     "start_time": "2023-02-18T01:15:31.797482",
     "status": "failed"
    },
    "tags": []
   },
   "outputs": [],
   "source": [
    "Y_val_pred = [model.predict_instances(x, n_tiles=model._guess_n_tiles(x), show_tile_progress=True)[0]\n",
    "              for x in tqdm(X_val)]"
   ]
  },
  {
   "attachments": {},
   "cell_type": "markdown",
   "id": "644da21a",
   "metadata": {
    "papermill": {
     "duration": null,
     "end_time": null,
     "exception": null,
     "start_time": null,
     "status": "pending"
    },
    "tags": []
   },
   "source": [
    "Plot a GT/prediction example  "
   ]
  },
  {
   "cell_type": "code",
   "execution_count": null,
   "id": "17412c70",
   "metadata": {
    "execution": {
     "iopub.execute_input": "2023-02-16T12:23:54.434779Z",
     "iopub.status.busy": "2023-02-16T12:23:54.434616Z",
     "iopub.status.idle": "2023-02-16T12:23:54.902456Z",
     "shell.execute_reply": "2023-02-16T12:23:54.902144Z"
    },
    "papermill": {
     "duration": null,
     "end_time": null,
     "exception": null,
     "start_time": null,
     "status": "pending"
    },
    "tags": []
   },
   "outputs": [],
   "source": [
    "plot_img_label(X_val[0],Y_val[0], lbl_title=\"label GT (XY slice)\")\n",
    "plot_img_label(X_val[0],Y_val_pred[0], lbl_title=\"label Pred (XY slice)\")"
   ]
  },
  {
   "attachments": {},
   "cell_type": "markdown",
   "id": "cb4cbc6d",
   "metadata": {
    "papermill": {
     "duration": null,
     "end_time": null,
     "exception": null,
     "start_time": null,
     "status": "pending"
    },
    "tags": []
   },
   "source": [
    "Choose several IoU thresholds $\\tau$ that might be of interest and for each compute matching statistics for the validation data."
   ]
  },
  {
   "cell_type": "code",
   "execution_count": null,
   "id": "65e6b13a",
   "metadata": {
    "execution": {
     "iopub.execute_input": "2023-02-16T12:23:59.397462Z",
     "iopub.status.busy": "2023-02-16T12:23:59.397283Z",
     "iopub.status.idle": "2023-02-16T12:24:22.486650Z",
     "shell.execute_reply": "2023-02-16T12:24:22.486338Z"
    },
    "papermill": {
     "duration": null,
     "end_time": null,
     "exception": null,
     "start_time": null,
     "status": "pending"
    },
    "tags": []
   },
   "outputs": [],
   "source": [
    "taus = [0.1, 0.2, 0.3, 0.4, 0.5, 0.6, 0.7, 0.8, 0.9]\n",
    "stats = [matching_dataset(Y_val, Y_val_pred, thresh=t, show_progress=False) for t in tqdm(taus)]"
   ]
  },
  {
   "attachments": {},
   "cell_type": "markdown",
   "id": "38de4193",
   "metadata": {
    "papermill": {
     "duration": null,
     "end_time": null,
     "exception": null,
     "start_time": null,
     "status": "pending"
    },
    "tags": []
   },
   "source": [
    "Example: Print all available matching statistics for $\\tau=0.7$"
   ]
  },
  {
   "cell_type": "code",
   "execution_count": null,
   "id": "8b1be590",
   "metadata": {
    "execution": {
     "iopub.execute_input": "2023-02-16T12:24:26.963283Z",
     "iopub.status.busy": "2023-02-16T12:24:26.963125Z",
     "iopub.status.idle": "2023-02-16T12:24:26.965964Z",
     "shell.execute_reply": "2023-02-16T12:24:26.965690Z"
    },
    "papermill": {
     "duration": null,
     "end_time": null,
     "exception": null,
     "start_time": null,
     "status": "pending"
    },
    "tags": []
   },
   "outputs": [],
   "source": [
    "stats[taus.index(0.7)]"
   ]
  },
  {
   "attachments": {},
   "cell_type": "markdown",
   "id": "eda64f28",
   "metadata": {
    "papermill": {
     "duration": null,
     "end_time": null,
     "exception": null,
     "start_time": null,
     "status": "pending"
    },
    "tags": []
   },
   "source": [
    "Plot the matching statistics and the number of true/false positives/negatives as a function of the IoU threshold $\\tau$. "
   ]
  },
  {
   "cell_type": "code",
   "execution_count": null,
   "id": "d27d1f0c",
   "metadata": {
    "execution": {
     "iopub.execute_input": "2023-02-16T12:24:31.419937Z",
     "iopub.status.busy": "2023-02-16T12:24:31.419775Z",
     "iopub.status.idle": "2023-02-16T12:24:31.779677Z",
     "shell.execute_reply": "2023-02-16T12:24:31.779301Z"
    },
    "papermill": {
     "duration": null,
     "end_time": null,
     "exception": null,
     "start_time": null,
     "status": "pending"
    },
    "tags": []
   },
   "outputs": [],
   "source": [
    "fig, (ax1,ax2) = plt.subplots(1,2, figsize=(15,5))\n",
    "\n",
    "for m in ('precision', 'recall', 'accuracy', 'f1', 'mean_true_score', 'mean_matched_score', 'panoptic_quality'):\n",
    "    ax1.plot(taus, [s._asdict()[m] for s in stats], '.-', lw=2, label=m)\n",
    "ax1.set_xlabel(r'IoU threshold $\\tau$')\n",
    "ax1.set_ylabel('Metric value')\n",
    "ax1.grid()\n",
    "ax1.legend()\n",
    "\n",
    "for m in ('fp', 'tp', 'fn'):\n",
    "    ax2.plot(taus, [s._asdict()[m] for s in stats], '.-', lw=2, label=m)\n",
    "ax2.set_xlabel(r'IoU threshold $\\tau$')\n",
    "ax2.set_ylabel('Number #')\n",
    "ax2.grid()\n",
    "ax2.legend();"
   ]
  }
 ],
 "metadata": {
  "kernelspec": {
   "display_name": "Python 3",
   "language": "python",
   "name": "python3"
  },
  "language_info": {
   "codemirror_mode": {
    "name": "ipython",
    "version": 3
   },
   "file_extension": ".py",
   "mimetype": "text/x-python",
   "name": "python",
   "nbconvert_exporter": "python",
   "pygments_lexer": "ipython3",
   "version": "3.10.9"
  },
  "papermill": {
   "default_parameters": {},
   "duration": 3306.973072,
   "end_time": "2023-02-18T01:15:49.619128",
   "environment_variables": {},
   "exception": true,
   "input_path": "experiments/worm/2_training.ipynb",
   "output_path": "experiments/worm/2_training.ipynb",
   "parameters": {},
   "start_time": "2023-02-18T00:20:42.646056",
   "version": "2.4.0"
  }
 },
 "nbformat": 4,
 "nbformat_minor": 5
}
